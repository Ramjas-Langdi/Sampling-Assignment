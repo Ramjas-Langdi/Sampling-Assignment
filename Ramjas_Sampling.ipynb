{
  "nbformat": 4,
  "nbformat_minor": 0,
  "metadata": {
    "colab": {
      "provenance": [],
      "authorship_tag": "ABX9TyOTfwndZShZshJgO4YALAtI",
      "include_colab_link": true
    },
    "kernelspec": {
      "name": "python3",
      "display_name": "Python 3"
    },
    "language_info": {
      "name": "python"
    }
  },
  "cells": [
    {
      "cell_type": "markdown",
      "metadata": {
        "id": "view-in-github",
        "colab_type": "text"
      },
      "source": [
        "<a href=\"https://colab.research.google.com/github/Ramjas-Langdi/Sampling-Assignment/blob/main/Ramjas_Sampling.ipynb\" target=\"_parent\"><img src=\"https://colab.research.google.com/assets/colab-badge.svg\" alt=\"Open In Colab\"/></a>"
      ]
    },
    {
      "cell_type": "code",
      "execution_count": 1,
      "metadata": {
        "colab": {
          "base_uri": "https://localhost:8080/"
        },
        "id": "woB7JtBhdcCM",
        "outputId": "a819adf5-8e39-4536-fcea-200aeeea8d36"
      },
      "outputs": [
        {
          "output_type": "stream",
          "name": "stderr",
          "text": [
            "/usr/local/lib/python3.10/dist-packages/sklearn/cluster/_kmeans.py:870: FutureWarning: The default value of `n_init` will change from 10 to 'auto' in 1.4. Set the value of `n_init` explicitly to suppress the warning\n",
            "  warnings.warn(\n",
            "/usr/local/lib/python3.10/dist-packages/sklearn/cluster/_kmeans.py:870: FutureWarning: The default value of `n_init` will change from 10 to 'auto' in 1.4. Set the value of `n_init` explicitly to suppress the warning\n",
            "  warnings.warn(\n",
            "/usr/local/lib/python3.10/dist-packages/sklearn/cluster/_kmeans.py:870: FutureWarning: The default value of `n_init` will change from 10 to 'auto' in 1.4. Set the value of `n_init` explicitly to suppress the warning\n",
            "  warnings.warn(\n",
            "/usr/local/lib/python3.10/dist-packages/sklearn/cluster/_kmeans.py:870: FutureWarning: The default value of `n_init` will change from 10 to 'auto' in 1.4. Set the value of `n_init` explicitly to suppress the warning\n",
            "  warnings.warn(\n",
            "/usr/local/lib/python3.10/dist-packages/sklearn/cluster/_kmeans.py:870: FutureWarning: The default value of `n_init` will change from 10 to 'auto' in 1.4. Set the value of `n_init` explicitly to suppress the warning\n",
            "  warnings.warn(\n"
          ]
        },
        {
          "output_type": "stream",
          "name": "stdout",
          "text": [
            "                           Decision Tree   XGBoost       KNN       SVM  \\\n",
            "Simple Random Sampling          0.983660  0.990196  0.852941  0.686275   \n",
            "Systematic Sampling             0.911765  0.964052  0.745098  0.653595   \n",
            "ClusterCentroids                0.977124  0.986928  0.852941  0.686275   \n",
            "Cross Validation Sampling       0.944444  0.983660  0.781046  0.650327   \n",
            "Stratified Sampling             0.983660  0.983660  0.843137  0.679739   \n",
            "\n",
            "                           Gradient Boosting  \n",
            "Simple Random Sampling              0.990196  \n",
            "Systematic Sampling                 0.970588  \n",
            "ClusterCentroids                    0.983660  \n",
            "Cross Validation Sampling           0.954248  \n",
            "Stratified Sampling                 0.986928  \n"
          ]
        }
      ],
      "source": [
        "import pandas as pd\n",
        "from sklearn.model_selection import train_test_split, StratifiedShuffleSplit, KFold\n",
        "from imblearn.over_sampling import SMOTE\n",
        "from imblearn.under_sampling import  ClusterCentroids\n",
        "from sklearn.tree import DecisionTreeClassifier\n",
        "from sklearn.ensemble import GradientBoostingClassifier\n",
        "from xgboost import XGBClassifier\n",
        "from sklearn.svm import SVC\n",
        "from sklearn.neighbors import KNeighborsClassifier\n",
        "from sklearn.metrics import accuracy_score\n",
        "\n",
        "data_df = pd.read_csv('/content/Creditcard_data.csv')\n",
        "X = data_df.drop('Class', axis=1)\n",
        "y = data_df['Class']\n",
        "smote = SMOTE(random_state=42)\n",
        "X_balanced, y_balanced = smote.fit_resample(X, y)\n",
        "X_train, X_test, y_train, y_test = train_test_split(X_balanced, y_balanced, test_size=0.2, random_state=42)\n",
        "\n",
        "models = {\n",
        "    'Decision Tree': DecisionTreeClassifier(),\n",
        "    'XGBoost': XGBClassifier(),\n",
        "    'KNN': KNeighborsClassifier(),\n",
        "    'SVM': SVC(),\n",
        "    'Gradient Boosting': GradientBoostingClassifier(),\n",
        "}\n",
        "\n",
        "sampling_techniques = {\n",
        "    'Simple Random Sampling': 'simple',\n",
        "    'Systematic Sampling': 'systematic',\n",
        "    'ClusterCentroids': 'clustercentroids',\n",
        "    'Cross Validation Sampling': 'cv',\n",
        "    'Stratified Sampling': 'stratified'\n",
        "\n",
        "}\n",
        "\n",
        "results = {}\n",
        "for model_name, model in models.items():\n",
        "    model_results = []\n",
        "    for technique_name, technique in sampling_techniques.items():\n",
        "\n",
        "        if technique == 'simple':\n",
        "            X_sampled, y_sampled = X_train, y_train\n",
        "        elif technique == 'systematic':\n",
        "\n",
        "            n = 5\n",
        "            X_sampled, _, y_sampled, _ = train_test_split(X_train, y_train, test_size=1-(1/n))\n",
        "\n",
        "        elif technique == 'cv':\n",
        "            kf = KFold(n_splits=5, random_state=42, shuffle=True)\n",
        "            for _, test_index in kf.split(X_train, y_train):\n",
        "                X_sampled, y_sampled = X_train.iloc[test_index], y_train.iloc[test_index]\n",
        "\n",
        "        elif technique == 'clustercentroids':\n",
        "\n",
        "            cc = ClusterCentroids()\n",
        "            X_sampled, y_sampled = cc.fit_resample(X_train, y_train)\n",
        "        elif technique == 'stratified':\n",
        "\n",
        "            strat_split = StratifiedShuffleSplit(n_splits=1, test_size=0.2, random_state=42)\n",
        "            for train_index, _ in strat_split.split(X_train, y_train):\n",
        "                X_sampled, y_sampled = X_train.iloc[train_index], y_train.iloc[train_index]\n",
        "\n",
        "\n",
        "\n",
        "        model.fit(X_sampled, y_sampled)\n",
        "\n",
        "\n",
        "        y_pred = model.predict(X_test)\n",
        "\n",
        "\n",
        "        accuracy = accuracy_score(y_test, y_pred)\n",
        "        model_results.append(accuracy)\n",
        "\n",
        "    results[model_name] = model_results\n",
        "\n",
        "results_df = pd.DataFrame(results, index=sampling_techniques.keys())\n",
        "print(results_df)"
      ]
    }
  ]
}